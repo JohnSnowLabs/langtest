{
 "cells": [
  {
   "cell_type": "code",
   "execution_count": 1,
   "metadata": {},
   "outputs": [],
   "source": [
    "import sys \n",
    "sys.path.insert(0, '..')"
   ]
  },
  {
   "cell_type": "code",
   "execution_count": 2,
   "metadata": {},
   "outputs": [],
   "source": [
    "from nlptest import Harness"
   ]
  },
  {
   "attachments": {},
   "cell_type": "markdown",
   "metadata": {},
   "source": [
    "### Harness"
   ]
  },
  {
   "cell_type": "code",
   "execution_count": 3,
   "metadata": {},
   "outputs": [],
   "source": [
    "harness = Harness(\n",
    "            task='ner',\n",
    "            model='dslim/bert-base-NER',# 'en_core_web_sm',#\n",
    "            #model='en_core_web_sm',#\n",
    "            data= './data/test.conll',\n",
    "            config= './data/config.yml',\n",
    "            hub=\"huggingface\"\n",
    "        )"
   ]
  },
  {
   "attachments": {},
   "cell_type": "markdown",
   "metadata": {},
   "source": [
    "### One-Liner Testing Model"
   ]
  },
  {
   "cell_type": "code",
   "execution_count": 4,
   "metadata": {},
   "outputs": [
    {
     "name": "stdout",
     "output_type": "stream",
     "text": [
      "replace_to_female_pronouns\n",
      "replace_to_male_pronouns\n",
      "lowercase\n",
      "swap_entities\n",
      "uppercase\n",
      "add_context\n",
      "75 predictions have different lenghts than dataset and will be ignored.\n",
      "Please make sure dataset and model uses same tokenizer.\n"
     ]
    },
    {
     "data": {
      "text/html": [
       "<div>\n",
       "<style scoped>\n",
       "    .dataframe tbody tr th:only-of-type {\n",
       "        vertical-align: middle;\n",
       "    }\n",
       "\n",
       "    .dataframe tbody tr th {\n",
       "        vertical-align: top;\n",
       "    }\n",
       "\n",
       "    .dataframe thead th {\n",
       "        text-align: right;\n",
       "    }\n",
       "</style>\n",
       "<table border=\"1\" class=\"dataframe\">\n",
       "  <thead>\n",
       "    <tr style=\"text-align: right;\">\n",
       "      <th></th>\n",
       "      <th>test_type</th>\n",
       "      <th>category</th>\n",
       "      <th>fail_count</th>\n",
       "      <th>pass_count</th>\n",
       "      <th>pass_rate</th>\n",
       "      <th>minimum_pass_rate</th>\n",
       "      <th>pass</th>\n",
       "    </tr>\n",
       "  </thead>\n",
       "  <tbody>\n",
       "    <tr>\n",
       "      <th>0</th>\n",
       "      <td>replace_to_female_pronouns</td>\n",
       "      <td>Bias</td>\n",
       "      <td>4</td>\n",
       "      <td>87</td>\n",
       "      <td>96%</td>\n",
       "      <td>65%</td>\n",
       "      <td>True</td>\n",
       "    </tr>\n",
       "    <tr>\n",
       "      <th>1</th>\n",
       "      <td>replace_to_male_pronouns</td>\n",
       "      <td>Bias</td>\n",
       "      <td>0</td>\n",
       "      <td>91</td>\n",
       "      <td>100%</td>\n",
       "      <td>65%</td>\n",
       "      <td>True</td>\n",
       "    </tr>\n",
       "    <tr>\n",
       "      <th>2</th>\n",
       "      <td>lowercase</td>\n",
       "      <td>Robustness</td>\n",
       "      <td>82</td>\n",
       "      <td>9</td>\n",
       "      <td>10%</td>\n",
       "      <td>65%</td>\n",
       "      <td>False</td>\n",
       "    </tr>\n",
       "    <tr>\n",
       "      <th>3</th>\n",
       "      <td>swap_entities</td>\n",
       "      <td>Robustness</td>\n",
       "      <td>48</td>\n",
       "      <td>43</td>\n",
       "      <td>47%</td>\n",
       "      <td>65%</td>\n",
       "      <td>False</td>\n",
       "    </tr>\n",
       "    <tr>\n",
       "      <th>4</th>\n",
       "      <td>uppercase</td>\n",
       "      <td>Robustness</td>\n",
       "      <td>84</td>\n",
       "      <td>7</td>\n",
       "      <td>8%</td>\n",
       "      <td>65%</td>\n",
       "      <td>False</td>\n",
       "    </tr>\n",
       "    <tr>\n",
       "      <th>5</th>\n",
       "      <td>add_context</td>\n",
       "      <td>Robustness</td>\n",
       "      <td>91</td>\n",
       "      <td>0</td>\n",
       "      <td>0%</td>\n",
       "      <td>65%</td>\n",
       "      <td>False</td>\n",
       "    </tr>\n",
       "  </tbody>\n",
       "</table>\n",
       "</div>"
      ],
      "text/plain": [
       "                    test_type    category  fail_count  pass_count pass_rate  \\\n",
       "0  replace_to_female_pronouns        Bias           4          87       96%   \n",
       "1    replace_to_male_pronouns        Bias           0          91      100%   \n",
       "2                   lowercase  Robustness          82           9       10%   \n",
       "3               swap_entities  Robustness          48          43       47%   \n",
       "4                   uppercase  Robustness          84           7        8%   \n",
       "5                 add_context  Robustness          91           0        0%   \n",
       "\n",
       "  minimum_pass_rate   pass  \n",
       "0               65%   True  \n",
       "1               65%   True  \n",
       "2               65%  False  \n",
       "3               65%  False  \n",
       "4               65%  False  \n",
       "5               65%  False  "
      ]
     },
     "execution_count": 4,
     "metadata": {},
     "output_type": "execute_result"
    }
   ],
   "source": [
    "harness.generate().run().report()"
   ]
  },
  {
   "attachments": {},
   "cell_type": "markdown",
   "metadata": {},
   "source": [
    "### One-Liner Augmentaion on train data\n"
   ]
  },
  {
   "cell_type": "code",
   "execution_count": 5,
   "metadata": {},
   "outputs": [
    {
     "name": "stdout",
     "output_type": "stream",
     "text": [
      "lowercase\n",
      "swap_entities\n",
      "uppercase\n",
      "add_context\n"
     ]
    }
   ],
   "source": [
    "gdd = harness.augment(\"./data/train.conll\", \"./output/augmenated_train.conll\", inplace=False) # dataset length may increase"
   ]
  },
  {
   "cell_type": "code",
   "execution_count": null,
   "metadata": {},
   "outputs": [
    {
     "name": "stdout",
     "output_type": "stream",
     "text": [
      "['<i4', '<i4']\n",
      "lowercase\n",
      "uppercase\n",
      "add_context\n"
     ]
    }
   ],
   "source": [
    "gdd = harness.augment(\"./data/train.conll\", \"./output/augmenated_train.conll\", inplace=True) # dataset length is same"
   ]
  }
 ],
 "metadata": {
  "kernelspec": {
   "display_name": "Python 3",
   "language": "python",
   "name": "python3"
  },
  "language_info": {
   "codemirror_mode": {
    "name": "ipython",
    "version": 3
   },
   "file_extension": ".py",
   "mimetype": "text/x-python",
   "name": "python",
   "nbconvert_exporter": "python",
   "pygments_lexer": "ipython3",
   "version": "3.8.9"
  },
  "orig_nbformat": 4
 },
 "nbformat": 4,
 "nbformat_minor": 2
}
