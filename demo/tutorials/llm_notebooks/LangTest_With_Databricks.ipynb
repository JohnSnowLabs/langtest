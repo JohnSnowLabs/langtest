{
 "cells": [
  {
   "cell_type": "markdown",
   "metadata": {
    "application/vnd.databricks.v1+cell": {
     "cellMetadata": {
      "byteLimit": 2048000,
      "rowLimit": 10000
     },
     "inputWidgets": {},
     "nuid": "b8bb28d1-3004-4d37-b95b-a6fb5450f5d2",
     "showTitle": false,
     "tableResultSettingsMap": {},
     "title": ""
    }
   },
   "source": [
    "![image.png](data:image/png;base64,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)"
   ]
  },
  {
   "cell_type": "markdown",
   "metadata": {
    "application/vnd.databricks.v1+cell": {
     "cellMetadata": {
      "byteLimit": 2048000,
      "rowLimit": 10000
     },
     "inputWidgets": {},
     "nuid": "9716d793-1e9b-4cf3-8bad-62df0a85f467",
     "showTitle": false,
     "tableResultSettingsMap": {},
     "title": ""
    }
   },
   "source": [
    "[![Open In Colab](https://colab.research.google.com/assets/colab-badge.svg)](https://colab.research.google.com/github/JohnSnowLabs/langtest/blob/main/demo/tutorials/llm_notebooks/LangTest_with_DataBricks.ipynb)"
   ]
  },
  {
   "cell_type": "markdown",
   "metadata": {
    "application/vnd.databricks.v1+cell": {
     "cellMetadata": {
      "byteLimit": 2048000,
      "rowLimit": 10000
     },
     "inputWidgets": {},
     "nuid": "297ad708-f5c1-4109-9ef4-80f5cc986995",
     "showTitle": false,
     "tableResultSettingsMap": {},
     "title": ""
    }
   },
   "source": [
    "# Introduction to LangTest with Databricks Integration\n",
    "\n",
    "**LangTest** is an open-source Python library designed to help developers deliver safe, robust, and effective Natural Language Processing (NLP) models. In today's rapidly evolving AI landscape, ensuring the quality and reliability of your NLP solutions is critical. LangTest streamlines this process by offering a comprehensive suite of tools to test and validate various NLP models and tasks. Whether you're working with models from **John Snow Labs, Hugging Face, Spacy**, or utilizing cutting-edge large language models (LLMs) from **OpenAI, Cohere, AI21, Hugging Face Inference API, and Azure-OpenAI**, LangTest provides an intuitive and powerful framework for evaluation.\n",
    "\n",
    "The library supports testing for a diverse range of tasks, including:\n",
    "\n",
    "- **Named Entity Recognition (NER)**: Evaluate how well your model can identify specific entities, such as names, dates, or locations, in text.\n",
    "- **Text Classification**: Validate your model's ability to categorize text into predefined labels.\n",
    "- **Fill-mask**: Test how accurately your model can predict masked words in a sentence.\n",
    "- **Translation**: Assess the quality of translations produced by your model for various language pairs.\n",
    "\n",
    "LangTest also shines in its support for LLM-specific tasks, enabling developers to evaluate foundational models for:\n",
    "\n",
    "- **Question Answering**: Test a model's ability to provide accurate and contextually relevant answers to questions.\n",
    "- **Visual Question Answering**: Combine image understanding and textual reasoning for multi-modal models.\n",
    "- **Summarization**: Validate how effectively your model can generate concise summaries of longer texts.\n",
    "- **Text Generation**: Test the fluency, coherence, and creativity of the text generated by your model.\n",
    "\n",
    "One of the standout features of LangTest is its comprehensive library of over **100 pre-built tests**, covering everything from data quality checks to bias detection and adversarial robustness testing. These tests help you identify weaknesses and ensure your models perform reliably in real-world scenarios. For a complete list of supported test categories, please visit the [LangTest documentation](http://langtest.org/docs/pages/docs/test_categories).\n",
    "\n",
    "## Why Integrate LangTest with Databricks?\n",
    "\n",
    "**Databricks** is a powerful platform for big data analytics and machine learning, offering seamless integration with Apache Spark for distributed computing. By combining LangTest with Databricks, you can scale your model evaluations across large datasets and distributed environments. This integration allows you to:\n",
    "\n",
    "1. **Efficiently handle large-scale datasets**: Use the parallel processing capabilities of Databricks to run tests on massive datasets without performance bottlenecks.\n",
    "2. **Collaborate seamlessly**: Databricks' collaborative notebooks make it easy for teams to work together on evaluating and improving NLP models.\n",
    "3. **Automate testing workflows**: Leverage Databricks' pipeline capabilities to integrate LangTest into your CI/CD workflows for continuous evaluation.\n",
    "\n",
    "## What Will We Cover in This Tutorial?\n",
    "\n",
    "In this notebook, we will demonstrate how to use **LangTest** with **Databricks** to test foundational NLP models for the **Question Answering** task using the **MedQA** dataset. The MedQA dataset is specifically designed for evaluating models in the healthcare domain, making it a great benchmark for testing domain-specific question-answering capabilities.\n",
    "\n",
    "By the end of this tutorial, you will learn how to:\n",
    "\n",
    "1. Set up LangTest in a Databricks environment.\n",
    "2. Load and preprocess the MedQA dataset for testing.\n",
    "3. Configure and run LangTest evaluations for question-answering models.\n",
    "4. Interpret the results to identify areas for improvement in your models.\n",
    "\n",
    "Whether you're building state-of-the-art NLP solutions for general applications or tackling domain-specific challenges, this tutorial will equip you with the tools and knowledge to deliver more reliable and impactful models. Let's get started!\n"
   ]
  },
  {
   "cell_type": "markdown",
   "metadata": {
    "application/vnd.databricks.v1+cell": {
     "cellMetadata": {
      "byteLimit": 2048000,
      "rowLimit": 10000
     },
     "inputWidgets": {},
     "nuid": "a111b827-a496-47d9-86e2-8e1793905809",
     "showTitle": false,
     "tableResultSettingsMap": {},
     "title": ""
    }
   },
   "source": [
    "### Step 1: Set Up LangTest in a Databricks Environment\n",
    "\n",
    "To set up **LangTest** in your Databricks environment, follow these steps:\n",
    "\n",
    "#### 1.1: Launch Databricks Workspace\n",
    "1. Log in to your **Databricks** account.\n",
    "2. Navigate to your workspace and open a new or existing notebook.\n",
    "\n",
    "#### 1.2: Install LangTest\n",
    "You need to install the **LangTest** library in your Databricks cluster. Use the following commands in a notebook cell to install the library."
   ]
  },
  {
   "cell_type": "code",
   "execution_count": 0,
   "metadata": {
    "application/vnd.databricks.v1+cell": {
     "cellMetadata": {
      "byteLimit": 2048000,
      "rowLimit": 10000
     },
     "inputWidgets": {},
     "nuid": "05a2467e-f203-4f27-8e10-8740a1efb5ec",
     "showTitle": false,
     "tableResultSettingsMap": {},
     "title": ""
    }
   },
   "outputs": [
    {
     "name": "stdout",
     "output_type": "stream",
     "text": [
      "\u001b[43mNote: you may need to restart the kernel using dbutils.library.restartPython() to use updated packages.\u001b[0m\n",
      "\u001b[43mNote: you may need to restart the kernel using dbutils.library.restartPython() to use updated packages.\u001b[0m\n"
     ]
    }
   ],
   "source": [
    "%pip install -q langtest[databricks]==2.5.0rc5 # Langtest version >= 2.5.0 is required for databricks support"
   ]
  },
  {
   "cell_type": "code",
   "execution_count": 0,
   "metadata": {
    "application/vnd.databricks.v1+cell": {
     "cellMetadata": {
      "byteLimit": 2048000,
      "rowLimit": 10000
     },
     "inputWidgets": {},
     "nuid": "d9e5ffc2-0014-49dd-b84d-babc4c6076f4",
     "showTitle": false,
     "tableResultSettingsMap": {},
     "title": ""
    }
   },
   "outputs": [
    {
     "name": "stdout",
     "output_type": "stream",
     "text": [
      "\u001b[43mNote: you may need to restart the kernel using dbutils.library.restartPython() to use updated packages.\u001b[0m\n",
      "\u001b[43mNote: you may need to restart the kernel using dbutils.library.restartPython() to use updated packages.\u001b[0m\n"
     ]
    }
   ],
   "source": [
    "%pip install -q langchain_openai==0.2.5\n",
    "dbutils.library.restartPython()"
   ]
  },
  {
   "cell_type": "markdown",
   "metadata": {
    "application/vnd.databricks.v1+cell": {
     "cellMetadata": {
      "byteLimit": 2048000,
      "rowLimit": 10000
     },
     "inputWidgets": {},
     "nuid": "cdd2a1c7-c9db-48bb-a007-c428108156cb",
     "showTitle": false,
     "tableResultSettingsMap": {},
     "title": ""
    }
   },
   "source": [
    "#### 1.3: Verify Installation\n",
    "To confirm that LangTest is installed correctly, run the following code to check the version of the library:\n",
    "\n",
    "```bash\n",
    "!pip show langtest\n",
    "```\n",
    "\n",
    "#### 1.4: Set Up Databricks Cluster (Optional)\n",
    "If you don’t have a cluster running yet:\n",
    "1. Go to the **Clusters** tab in your Databricks workspace.\n",
    "2. Click **Create Cluster** and configure it according to your project’s requirements (e.g., Python version, worker nodes).\n",
    "3. Attach your notebook to the cluster once it's running.\n",
    "\n",
    "#### 1.5: Import Necessary Libraries\n",
    "To get started with LangTest, you'll need to import the required libraries in your notebook:\n"
   ]
  },
  {
   "cell_type": "code",
   "execution_count": 0,
   "metadata": {
    "application/vnd.databricks.v1+cell": {
     "cellMetadata": {
      "byteLimit": 2048000,
      "rowLimit": 10000
     },
     "inputWidgets": {},
     "nuid": "8e369dd7-e9ca-43a5-9e88-5688415b3640",
     "showTitle": false,
     "tableResultSettingsMap": {},
     "title": ""
    }
   },
   "outputs": [],
   "source": [
    "# from langtest import Harness\n",
    "import os \n",
    "\n",
    "os.environ[\"OPENAI_API_KEY\"] = \"<YOUR API KEY>\""
   ]
  },
  {
   "cell_type": "code",
   "execution_count": 0,
   "metadata": {
    "application/vnd.databricks.v1+cell": {
     "cellMetadata": {
      "byteLimit": 2048000,
      "rowLimit": 10000
     },
     "inputWidgets": {},
     "nuid": "d9d2007b-9133-4754-8194-305ad239704a",
     "showTitle": false,
     "tableResultSettingsMap": {},
     "title": ""
    }
   },
   "outputs": [],
   "source": [
    "# %pip show langtest"
   ]
  },
  {
   "cell_type": "code",
   "execution_count": 0,
   "metadata": {
    "application/vnd.databricks.v1+cell": {
     "cellMetadata": {
      "byteLimit": 2048000,
      "rowLimit": 10000
     },
     "inputWidgets": {},
     "nuid": "348996f3-6f53-4d52-b327-887223146853",
     "showTitle": false,
     "tableResultSettingsMap": {},
     "title": ""
    }
   },
   "outputs": [],
   "source": [
    "from langtest import Harness"
   ]
  },
  {
   "cell_type": "code",
   "execution_count": 0,
   "metadata": {
    "application/vnd.databricks.v1+cell": {
     "cellMetadata": {
      "byteLimit": 2048000,
      "rowLimit": 10000
     },
     "inputWidgets": {},
     "nuid": "1573decc-6dde-4471-a268-07baf62e016a",
     "showTitle": false,
     "tableResultSettingsMap": {},
     "title": ""
    }
   },
   "outputs": [
    {
     "data": {
      "text/html": [
       "\n",
       "            <div>\n",
       "                <p><b>SparkSession - hive</b></p>\n",
       "                \n",
       "        <div>\n",
       "            <p><b>SparkContext</b></p>\n",
       "\n",
       "            <p><a href=\"/?o=2143657134576482#setting/sparkui/1206-124559-kont7u8h/driver-6983648334552857283\">Spark UI</a></p>\n",
       "\n",
       "            <dl>\n",
       "              <dt>Version</dt>\n",
       "                <dd><code>v3.5.0</code></dd>\n",
       "              <dt>Master</dt>\n",
       "                <dd><code>local[*, 4]</code></dd>\n",
       "              <dt>AppName</dt>\n",
       "                <dd><code>Databricks Shell</code></dd>\n",
       "            </dl>\n",
       "        </div>\n",
       "        \n",
       "            </div>\n",
       "        "
      ],
      "text/plain": [
       "<pyspark.sql.session.SparkSession at 0x7f80a1aff0d0>"
      ]
     },
     "execution_count": 3,
     "metadata": {},
     "output_type": "execute_result"
    }
   ],
   "source": [
    "from pyspark.sql import SparkSession\n",
    "\n",
    "spark: SparkSession = SparkSession.builder.appName(\"Langtest\").getOrCreate()\n",
    "spark"
   ]
  },
  {
   "cell_type": "markdown",
   "metadata": {
    "application/vnd.databricks.v1+cell": {
     "cellMetadata": {
      "byteLimit": 2048000,
      "rowLimit": 10000
     },
     "inputWidgets": {},
     "nuid": "ca37b21d-cdbc-4dbe-89ee-9e58a8885300",
     "showTitle": false,
     "tableResultSettingsMap": {},
     "title": ""
    }
   },
   "source": [
    "### Step 2: Load and Explore the MedQA Dataset\n",
    "\n",
    "We will now load the **MedQA** dataset, which is specifically designed for question-answering tasks in the medical domain. This dataset includes a set of challenging questions, correct answers, and multiple-choice options.\n",
    "\n",
    "#### 2.1: Load the MedQA Dataset\n",
    "\n",
    "The dataset is in JSON Lines format (`.jsonl`), where each line represents a record in JSON format. Use Spark to load it into a DataFrame.\n"
   ]
  },
  {
   "cell_type": "code",
   "execution_count": 0,
   "metadata": {
    "application/vnd.databricks.v1+cell": {
     "cellMetadata": {
      "byteLimit": 2048000,
      "rowLimit": 10000
     },
     "inputWidgets": {},
     "nuid": "855e48e7-0773-4fe8-abda-ab1ef1d3ae4b",
     "showTitle": false,
     "tableResultSettingsMap": {},
     "title": ""
    }
   },
   "outputs": [
    {
     "name": "stdout",
     "output_type": "stream",
     "text": [
      "  % Total    % Received % Xferd  Average Speed   Time    Time     Time  Current\r\n",
      "                                 Dload  Upload   Total   Spent    Left  Speed\r\n",
      "\r  0     0    0     0    0     0      0      0 --:--:-- --:--:-- --:--:--     0\r  0     0    0     0    0     0      0      0 --:--:-- --:--:-- --:--:--     0\r100 48418  100 48418    0     0   139k      0 --:--:-- --:--:-- --:--:--  139k\r\n"
     ]
    }
   ],
   "source": [
    "%python\n",
    "!mkdir -p /dbfs/MedQA/\n",
    "!curl -o /dbfs/MedQA/test-tiny.jsonl https://raw.githubusercontent.com/JohnSnowLabs/langtest/refs/heads/main/langtest/data/MedQA/test-tiny.jsonl"
   ]
  },
  {
   "cell_type": "code",
   "execution_count": 0,
   "metadata": {
    "application/vnd.databricks.v1+cell": {
     "cellMetadata": {
      "byteLimit": 2048000,
      "rowLimit": 10000
     },
     "inputWidgets": {},
     "nuid": "b1d4e1b7-b454-4579-a7c8-26170d468c6d",
     "showTitle": false,
     "tableResultSettingsMap": {},
     "title": ""
    }
   },
   "outputs": [
    {
     "name": "stdout",
     "output_type": "stream",
     "text": [
      "langtest_report  langtest_results  langtest_testcases  test-tiny.jsonl\r\n"
     ]
    }
   ],
   "source": [
    "%python\n",
    "!ls /dbfs/MedQA/"
   ]
  },
  {
   "cell_type": "code",
   "execution_count": 0,
   "metadata": {
    "application/vnd.databricks.v1+cell": {
     "cellMetadata": {
      "byteLimit": 2048000,
      "rowLimit": 10000
     },
     "inputWidgets": {},
     "nuid": "848dd40d-fc3b-4c3f-8ce9-76c75e7f3e9d",
     "showTitle": false,
     "tableResultSettingsMap": {},
     "title": ""
    }
   },
   "outputs": [],
   "source": [
    "from pyspark.sql import DataFrame\n",
    "\n",
    "# Load the dataset into a Spark DataFrame\n",
    "MedQA_df: DataFrame = spark.read.json(\"dbfs:/MedQA/test-tiny.jsonl\")\n"
   ]
  },
  {
   "cell_type": "markdown",
   "metadata": {
    "application/vnd.databricks.v1+cell": {
     "cellMetadata": {
      "byteLimit": 2048000,
      "rowLimit": 10000
     },
     "inputWidgets": {},
     "nuid": "35fa79e4-cb91-4224-9733-96b8e9d5befc",
     "showTitle": false,
     "tableResultSettingsMap": {},
     "title": ""
    }
   },
   "source": [
    "#### 2.2: Dataset Overview\n",
    "\n",
    "The **MedQA** dataset includes the following fields:\n",
    "- **question**: The medical scenario or problem statement being asked.\n",
    "- **answer**: The correct answer to the question (e.g., multiple-choice option like \"C\").\n",
    "- **options**: The possible answer choices provided for the question.\n",
    "\n",
    "#### 2.3: Explore the Dataset\n",
    "\n",
    "Let’s inspect the dataset to confirm its structure and understand its content:"
   ]
  },
  {
   "cell_type": "code",
   "execution_count": 0,
   "metadata": {
    "application/vnd.databricks.v1+cell": {
     "cellMetadata": {
      "byteLimit": 2048000,
      "rowLimit": 10000
     },
     "inputWidgets": {},
     "nuid": "1387818d-55e6-4e35-bb9c-ebb2ae5d83c6",
     "showTitle": false,
     "tableResultSettingsMap": {},
     "title": ""
    }
   },
   "outputs": [
    {
     "data": {
      "text/plain": [
       "DataFrame[summary: string, answer: string, options: string, question: string]"
      ]
     },
     "execution_count": 8,
     "metadata": {},
     "output_type": "execute_result"
    }
   ],
   "source": [
    "MedQA_df.describe()"
   ]
  },
  {
   "cell_type": "code",
   "execution_count": 0,
   "metadata": {
    "application/vnd.databricks.v1+cell": {
     "cellMetadata": {
      "byteLimit": 2048000,
      "rowLimit": 10000
     },
     "inputWidgets": {},
     "nuid": "52e6981d-3b7b-4972-bfc7-e83f1e7f1fb8",
     "showTitle": false,
     "tableResultSettingsMap": {},
     "title": ""
    }
   },
   "outputs": [
    {
     "name": "stdout",
     "output_type": "stream",
     "text": [
      "root\n",
      " |-- answer: string (nullable = true)\n",
      " |-- options: string (nullable = true)\n",
      " |-- question: string (nullable = true)\n",
      "\n"
     ]
    }
   ],
   "source": [
    "MedQA_df.printSchema()\n"
   ]
  },
  {
   "cell_type": "code",
   "execution_count": 0,
   "metadata": {
    "application/vnd.databricks.v1+cell": {
     "cellMetadata": {
      "byteLimit": 2048000,
      "rowLimit": 10000
     },
     "inputWidgets": {},
     "nuid": "717af98a-9c4b-4be4-9f4f-81d90379f012",
     "showTitle": false,
     "tableResultSettingsMap": {},
     "title": ""
    }
   },
   "outputs": [
    {
     "data": {
      "text/plain": [
       "'Dataset Count: 50'"
      ]
     },
     "execution_count": 10,
     "metadata": {},
     "output_type": "execute_result"
    }
   ],
   "source": [
    "f\"Dataset Count: {MedQA_df.count()}\"\n"
   ]
  },
  {
   "cell_type": "code",
   "execution_count": 0,
   "metadata": {
    "application/vnd.databricks.v1+cell": {
     "cellMetadata": {
      "byteLimit": 2048000,
      "rowLimit": 10000
     },
     "inputWidgets": {},
     "nuid": "5ac4152e-481c-43ff-92dc-4758c1bbd37a",
     "showTitle": false,
     "tableResultSettingsMap": {},
     "title": ""
    }
   },
   "outputs": [
    {
     "name": "stdout",
     "output_type": "stream",
     "text": [
      "+--------------------+--------------------+--------------------+\n",
      "|              answer|             options|            question|\n",
      "+--------------------+--------------------+--------------------+\n",
      "|C. Tell the atten...|A. Disclose the e...|A junior orthopae...|\n",
      "|E. Cross-linking ...|A. Inhibition of ...|A 67-year-old man...|\n",
      "|C. Cholesterol em...|A. Renal papillar...|Two weeks after u...|\n",
      "|D. Lactose-fermen...|A. Coagulase-posi...|A 39-year-old wom...|\n",
      "|B. Ketotifen eye ...|A. Erythromycin o...|A 35-year-old man...|\n",
      "+--------------------+--------------------+--------------------+\n",
      "only showing top 5 rows\n",
      "\n"
     ]
    }
   ],
   "source": [
    "MedQA_df.show(5)"
   ]
  },
  {
   "cell_type": "markdown",
   "metadata": {
    "application/vnd.databricks.v1+cell": {
     "cellMetadata": {
      "byteLimit": 2048000,
      "rowLimit": 10000
     },
     "inputWidgets": {},
     "nuid": "ba583a35-1144-48ac-b0d3-0cf5b55881f9",
     "showTitle": false,
     "tableResultSettingsMap": {},
     "title": ""
    }
   },
   "source": [
    "#### 2.4: Next Steps\n",
    "\n",
    "With the dataset loaded and explored, we are now ready to preprocess it (if necessary) and use it with **LangTest** for evaluating the performance of a question-answering model."
   ]
  },
  {
   "cell_type": "markdown",
   "metadata": {
    "application/vnd.databricks.v1+cell": {
     "cellMetadata": {
      "byteLimit": 2048000,
      "rowLimit": 10000
     },
     "inputWidgets": {},
     "nuid": "bb257c76-7c02-4fcb-8b07-a75ad82d459c",
     "showTitle": false,
     "tableResultSettingsMap": {},
     "title": ""
    }
   },
   "source": [
    "### Step 3: Set Up LangTest Harness and Run Test Cases\n",
    "\n",
    "In this step, we’ll configure the **LangTest** harness to evaluate a question-answering model using the **MedQA** dataset. We'll use a custom test configuration and define specific robustness tests to assess the model's reliability.\n",
    "\n",
    "#### 3.1: Define the Test Configuration\n",
    "\n",
    "The test configuration includes the following:\n",
    "- **Model parameters**: Specifies the temperature and maximum token limit for generating responses.\n",
    "- **Test types**:\n",
    "  - **Defaults**: Basic functional tests to ensure the model meets a minimum pass rate.\n",
    "  - **Robustness**: Tests that simulate common challenges such as typos and text case variations.\n",
    "\n",
    "Here is the test configuration:"
   ]
  },
  {
   "cell_type": "code",
   "execution_count": 0,
   "metadata": {
    "application/vnd.databricks.v1+cell": {
     "cellMetadata": {
      "byteLimit": 2048000,
      "rowLimit": 10000
     },
     "inputWidgets": {},
     "nuid": "954613ca-b377-4349-aadc-1c4a3f522ea3",
     "showTitle": false,
     "tableResultSettingsMap": {},
     "title": ""
    }
   },
   "outputs": [],
   "source": [
    "prompt_template = \"\"\"\n",
    "You are an AI bot specializing in providing accurate and concise answers to questions. You will be presented with a medical question and multiple-choice answer options. Your task is to choose the correct answer.\\nQuestion: {question}\\nOptions: {options}\\n Answer:\n",
    "\"\"\""
   ]
  },
  {
   "cell_type": "code",
   "execution_count": 0,
   "metadata": {
    "application/vnd.databricks.v1+cell": {
     "cellMetadata": {
      "byteLimit": 2048000,
      "rowLimit": 10000
     },
     "inputWidgets": {},
     "nuid": "77013c3f-24cc-41b6-a6f3-664c76c44a8d",
     "showTitle": false,
     "tableResultSettingsMap": {},
     "title": ""
    }
   },
   "outputs": [],
   "source": [
    "from langtest.types import HarnessConfig\n",
    "\n",
    "test_config: HarnessConfig = {\n",
    "    \"evaluation\": {\n",
    "        \"metric\": \"llm_eval\",\n",
    "        \"model\": \"gpt-4o\", # for evaluation\n",
    "        \"hub\": \"openai\",\n",
    "    },\n",
    "    \"tests\": {\n",
    "        \"defaults\": {\n",
    "            \"min_pass_rate\": 1.0,\n",
    "            \"user_prompt\": prompt_template,\n",
    "        },\n",
    "        \"robustness\": {\n",
    "            \"add_typo\": {\"min_pass_rate\": 0.8},\n",
    "            \"add_ocr_typo\": {\"min_pass_rate\": 0.8},\n",
    "            \"add_speech_to_text_typo\":{\"min_pass_rate\": 0.8},\n",
    "            \"add_slangs\": {\"min_pass_rate\": 0.8},\n",
    "            \"uppercase\": {\"min_pass_rate\": 0.8},\n",
    "        },\n",
    "    },\n",
    "}"
   ]
  },
  {
   "cell_type": "code",
   "execution_count": 0,
   "metadata": {
    "application/vnd.databricks.v1+cell": {
     "cellMetadata": {
      "byteLimit": 2048000,
      "rowLimit": 10000
     },
     "inputWidgets": {},
     "nuid": "73c91695-9a59-4354-94f3-da0d2b718c1b",
     "showTitle": false,
     "tableResultSettingsMap": {},
     "title": ""
    }
   },
   "outputs": [],
   "source": [
    "input_data = {\n",
    "    \"data_source\": MedQA_df,\n",
    "    \"source\": \"spark\",\n",
    "    \"spark_session\": spark\n",
    "}"
   ]
  },
  {
   "cell_type": "code",
   "execution_count": 0,
   "metadata": {
    "application/vnd.databricks.v1+cell": {
     "cellMetadata": {
      "byteLimit": 2048000,
      "rowLimit": 10000
     },
     "inputWidgets": {},
     "nuid": "0ef9de10-9a60-4b4f-94fa-a6169d0b6f21",
     "showTitle": false,
     "tableResultSettingsMap": {},
     "title": ""
    }
   },
   "outputs": [],
   "source": [
    "model_config = {\n",
    "    \"model\": {\n",
    "        # ChatDatabricks or Databricks Class params from the langchain-databricks\n",
    "        \"endpoint\": \"databricks-meta-llama-3-1-70b-instruct\",\n",
    "        \"max_tokens\": 20,\n",
    "    },\n",
    "    \"hub\": \"databricks\",\n",
    "    \"type\": \"chat\"\n",
    "}"
   ]
  },
  {
   "cell_type": "markdown",
   "metadata": {
    "application/vnd.databricks.v1+cell": {
     "cellMetadata": {
      "byteLimit": 2048000,
      "rowLimit": 10000
     },
     "inputWidgets": {},
     "nuid": "1bf5a9ab-d615-4cb4-8785-58e33845c1ee",
     "showTitle": false,
     "tableResultSettingsMap": {},
     "title": ""
    }
   },
   "source": [
    "#### 3.2: Set Up the LangTest Harness\n",
    "\n",
    "Initialize the LangTest harness with the MedQA dataset and the test configuration."
   ]
  },
  {
   "cell_type": "code",
   "execution_count": 0,
   "metadata": {
    "application/vnd.databricks.v1+cell": {
     "cellMetadata": {
      "byteLimit": 2048000,
      "rowLimit": 10000
     },
     "inputWidgets": {},
     "nuid": "64c0e733-ee03-4339-b765-6edc6169aed6",
     "showTitle": false,
     "tableResultSettingsMap": {},
     "title": ""
    }
   },
   "outputs": [
    {
     "name": "stdout",
     "output_type": "stream",
     "text": [
      "Test Configuration : \n",
      " {\n",
      " \"evaluation\": {\n",
      "  \"metric\": \"llm_eval\",\n",
      "  \"model\": \"gpt-4o\",\n",
      "  \"hub\": \"openai\"\n",
      " },\n",
      " \"tests\": {\n",
      "  \"defaults\": {\n",
      "   \"min_pass_rate\": 1.0,\n",
      "   \"user_prompt\": \"\\nYou are an AI bot specializing in providing accurate and concise answers to questions. You will be presented with a medical question and multiple-choice answer options. Your task is to choose the correct answer.\\nQuestion: {question}\\nOptions: {options}\\n Answer:\\n\"\n",
      "  },\n",
      "  \"robustness\": {\n",
      "   \"add_typo\": {\n",
      "    \"min_pass_rate\": 0.8\n",
      "   },\n",
      "   \"add_ocr_typo\": {\n",
      "    \"min_pass_rate\": 0.8\n",
      "   },\n",
      "   \"add_speech_to_text_typo\": {\n",
      "    \"min_pass_rate\": 0.8\n",
      "   },\n",
      "   \"add_slangs\": {\n",
      "    \"min_pass_rate\": 0.8\n",
      "   },\n",
      "   \"uppercase\": {\n",
      "    \"min_pass_rate\": 0.8\n",
      "   }\n",
      "  }\n",
      " }\n",
      "}\n"
     ]
    }
   ],
   "source": [
    "harness = Harness(\n",
    "    task=\"question-answering\",\n",
    "    model=model_config,\n",
    "    data=input_data,\n",
    "    config=test_config\n",
    ")"
   ]
  },
  {
   "cell_type": "code",
   "execution_count": 0,
   "metadata": {
    "application/vnd.databricks.v1+cell": {
     "cellMetadata": {
      "byteLimit": 2048000,
      "rowLimit": 10000
     },
     "inputWidgets": {},
     "nuid": "a1573e83-7bb3-4b21-894b-4b34a4309017",
     "showTitle": false,
     "tableResultSettingsMap": {},
     "title": ""
    }
   },
   "outputs": [],
   "source": [
    "harness.data = harness.data[:1]"
   ]
  },
  {
   "cell_type": "code",
   "execution_count": 0,
   "metadata": {
    "application/vnd.databricks.v1+cell": {
     "cellMetadata": {
      "byteLimit": 2048000,
      "rowLimit": 10000
     },
     "inputWidgets": {},
     "nuid": "3fcaa081-8daf-487e-bec8-3b5dd3225959",
     "showTitle": false,
     "tableResultSettingsMap": {},
     "title": ""
    }
   },
   "outputs": [
    {
     "name": "stderr",
     "output_type": "stream",
     "text": [
      "\rGenerating testcases...:   0%|          | 0/1 [00:00<?, ?it/s]\rGenerating testcases...: 100%|██████████| 1/1 [00:00<00:00, 9619.96it/s]\n",
      "WARNING:langtest:Removing samples where no transformation has been applied:\n",
      "- Test 'add_typo': 3 samples removed out of 50\n",
      "- Test 'add_slangs': 2 samples removed out of 50\n",
      "\n"
     ]
    },
    {
     "data": {
      "text/plain": []
     },
     "execution_count": 20,
     "metadata": {},
     "output_type": "execute_result"
    }
   ],
   "source": [
    "harness.generate()"
   ]
  },
  {
   "cell_type": "code",
   "execution_count": 0,
   "metadata": {
    "application/vnd.databricks.v1+cell": {
     "cellMetadata": {
      "byteLimit": 2048000,
      "rowLimit": 10000
     },
     "inputWidgets": {},
     "nuid": "4fad0c16-bd4d-4653-83b5-d55702a6ad63",
     "showTitle": false,
     "tableResultSettingsMap": {},
     "title": ""
    }
   },
   "outputs": [
    {
     "data": {
      "text/html": [
       "<div>\n",
       "<style scoped>\n",
       "    .dataframe tbody tr th:only-of-type {\n",
       "        vertical-align: middle;\n",
       "    }\n",
       "\n",
       "    .dataframe tbody tr th {\n",
       "        vertical-align: top;\n",
       "    }\n",
       "\n",
       "    .dataframe thead th {\n",
       "        text-align: right;\n",
       "    }\n",
       "</style>\n",
       "<table border=\"1\" class=\"dataframe\">\n",
       "  <thead>\n",
       "    <tr style=\"text-align: right;\">\n",
       "      <th></th>\n",
       "      <th>category</th>\n",
       "      <th>test_type</th>\n",
       "      <th>original_question</th>\n",
       "      <th>perturbed_question</th>\n",
       "      <th>options</th>\n",
       "    </tr>\n",
       "  </thead>\n",
       "  <tbody>\n",
       "    <tr>\n",
       "      <th>0</th>\n",
       "      <td>robustness</td>\n",
       "      <td>add_typo</td>\n",
       "      <td>A junior orthopaedic surgery resident is compl...</td>\n",
       "      <td>A junior orthopaedic surgery residsnt is compl...</td>\n",
       "      <td>A. Disclose the error to the patient but leave...</td>\n",
       "    </tr>\n",
       "    <tr>\n",
       "      <th>1</th>\n",
       "      <td>robustness</td>\n",
       "      <td>add_typo</td>\n",
       "      <td>A 67-year-old man with transitional cell carci...</td>\n",
       "      <td>A 67-year-old man with transitional cell carci...</td>\n",
       "      <td>A. Inhibition of thymidine synthesis\\nB. Inhib...</td>\n",
       "    </tr>\n",
       "    <tr>\n",
       "      <th>2</th>\n",
       "      <td>robustness</td>\n",
       "      <td>add_typo</td>\n",
       "      <td>Two weeks after undergoing an emergency cardia...</td>\n",
       "      <td>Two weeks after undergoing an emergency cardia...</td>\n",
       "      <td>A. Renal papillary necrosis\\nB. Allergic inter...</td>\n",
       "    </tr>\n",
       "    <tr>\n",
       "      <th>3</th>\n",
       "      <td>robustness</td>\n",
       "      <td>add_typo</td>\n",
       "      <td>A 39-year-old woman is brought to the emergenc...</td>\n",
       "      <td>A 39-year-old woman is brought to the emergenc...</td>\n",
       "      <td>A. Coagulase-positive, gram-positive cocci for...</td>\n",
       "    </tr>\n",
       "    <tr>\n",
       "      <th>4</th>\n",
       "      <td>robustness</td>\n",
       "      <td>add_typo</td>\n",
       "      <td>A 35-year-old man comes to the physician becau...</td>\n",
       "      <td>A 35-year-old man comes to the physician becau...</td>\n",
       "      <td>A. Erythromycin ointment\\nB. Ketotifen eye dro...</td>\n",
       "    </tr>\n",
       "    <tr>\n",
       "      <th>...</th>\n",
       "      <td>...</td>\n",
       "      <td>...</td>\n",
       "      <td>...</td>\n",
       "      <td>...</td>\n",
       "      <td>...</td>\n",
       "    </tr>\n",
       "    <tr>\n",
       "      <th>240</th>\n",
       "      <td>robustness</td>\n",
       "      <td>uppercase</td>\n",
       "      <td>A man is brought into the emergency department...</td>\n",
       "      <td>A MAN IS BROUGHT INTO THE EMERGENCY DEPARTMENT...</td>\n",
       "      <td>A. Ethanol\\nB. Naltrexone\\nC. Naloxone\\nD. Flu...</td>\n",
       "    </tr>\n",
       "    <tr>\n",
       "      <th>241</th>\n",
       "      <td>robustness</td>\n",
       "      <td>uppercase</td>\n",
       "      <td>A medical research study is evaluating an inve...</td>\n",
       "      <td>A MEDICAL RESEARCH STUDY IS EVALUATING AN INVE...</td>\n",
       "      <td>A. 5\\nB. 16\\nC. 20\\nD. 30\\nE. 50</td>\n",
       "    </tr>\n",
       "    <tr>\n",
       "      <th>242</th>\n",
       "      <td>robustness</td>\n",
       "      <td>uppercase</td>\n",
       "      <td>A 55-year-old man comes to the physician becau...</td>\n",
       "      <td>A 55-YEAR-OLD MAN COMES TO THE PHYSICIAN BECAU...</td>\n",
       "      <td>A. Femoropopliteal artery stenosis\\nB. Vasculi...</td>\n",
       "    </tr>\n",
       "    <tr>\n",
       "      <th>243</th>\n",
       "      <td>robustness</td>\n",
       "      <td>uppercase</td>\n",
       "      <td>A 29-year-old primigravid woman at 35 weeks' g...</td>\n",
       "      <td>A 29-YEAR-OLD PRIMIGRAVID WOMAN AT 35 WEEKS' G...</td>\n",
       "      <td>A. Perform karyotyping of amniotic fluid\\nB. R...</td>\n",
       "    </tr>\n",
       "    <tr>\n",
       "      <th>244</th>\n",
       "      <td>robustness</td>\n",
       "      <td>uppercase</td>\n",
       "      <td>A 67-year-old man is hospitalized after severa...</td>\n",
       "      <td>A 67-YEAR-OLD MAN IS HOSPITALIZED AFTER SEVERA...</td>\n",
       "      <td>A. Squamous cell proliferation\\nB. Sweeping of...</td>\n",
       "    </tr>\n",
       "  </tbody>\n",
       "</table>\n",
       "<p>245 rows × 5 columns</p>\n",
       "</div>"
      ],
      "text/plain": [
       "       category  ...                                            options\n",
       "0    robustness  ...  A. Disclose the error to the patient but leave...\n",
       "1    robustness  ...  A. Inhibition of thymidine synthesis\\nB. Inhib...\n",
       "2    robustness  ...  A. Renal papillary necrosis\\nB. Allergic inter...\n",
       "3    robustness  ...  A. Coagulase-positive, gram-positive cocci for...\n",
       "4    robustness  ...  A. Erythromycin ointment\\nB. Ketotifen eye dro...\n",
       "..          ...  ...                                                ...\n",
       "240  robustness  ...  A. Ethanol\\nB. Naltrexone\\nC. Naloxone\\nD. Flu...\n",
       "241  robustness  ...                   A. 5\\nB. 16\\nC. 20\\nD. 30\\nE. 50\n",
       "242  robustness  ...  A. Femoropopliteal artery stenosis\\nB. Vasculi...\n",
       "243  robustness  ...  A. Perform karyotyping of amniotic fluid\\nB. R...\n",
       "244  robustness  ...  A. Squamous cell proliferation\\nB. Sweeping of...\n",
       "\n",
       "[245 rows x 5 columns]"
      ]
     },
     "execution_count": 21,
     "metadata": {},
     "output_type": "execute_result"
    }
   ],
   "source": [
    "testcases = harness.testcases()\n",
    "testcases"
   ]
  },
  {
   "cell_type": "code",
   "execution_count": 0,
   "metadata": {
    "application/vnd.databricks.v1+cell": {
     "cellMetadata": {
      "byteLimit": 2048000,
      "rowLimit": 10000
     },
     "inputWidgets": {},
     "nuid": "a1c47112-fe9d-4b96-8a9c-3c1c03e903f0",
     "showTitle": false,
     "tableResultSettingsMap": {},
     "title": ""
    }
   },
   "outputs": [],
   "source": [
    "testcases_dlt_df = spark.createDataFrame(testcases)\n",
    "\n",
    "testcases_dlt_df.write.format(\"delta\").mode(\"overwrite\").save(\"dbfs:/MedQA/langtest_testcases\")"
   ]
  },
  {
   "cell_type": "markdown",
   "metadata": {
    "application/vnd.databricks.v1+cell": {
     "cellMetadata": {
      "byteLimit": 2048000,
      "rowLimit": 10000
     },
     "inputWidgets": {},
     "nuid": "447ef88d-a529-44bb-89b8-760769531a95",
     "showTitle": false,
     "tableResultSettingsMap": {},
     "title": ""
    }
   },
   "source": [
    "#### 3.3: Run the Test Cases\n",
    "\n",
    "Run the tests defined in the configuration. The output will include test results for each test case and their respective pass/fail status."
   ]
  },
  {
   "cell_type": "code",
   "execution_count": 0,
   "metadata": {
    "application/vnd.databricks.v1+cell": {
     "cellMetadata": {
      "byteLimit": 2048000,
      "rowLimit": 10000
     },
     "inputWidgets": {},
     "nuid": "6a2e77a7-ac67-4270-8653-cd5b3388c428",
     "showTitle": false,
     "tableResultSettingsMap": {},
     "title": ""
    }
   },
   "outputs": [
    {
     "name": "stderr",
     "output_type": "stream",
     "text": [
      "\rRunning testcases... :   0%|          | 0/245 [00:00<?, ?it/s]/local_disk0/.ephemeral_nfs/cluster_libraries/python/lib/python3.10/site-packages/langtest/modelhandler/llm_modelhandler.py:194: LangChainDeprecationWarning: The class `LLMChain` was deprecated in LangChain 0.1.17 and will be removed in 1.0. Use :meth:`~RunnableSequence, e.g., `prompt | llm`` instead.\n",
      "  llmchain = LLMChain(prompt=prompt_template, llm=self.model)\n",
      "\rRunning testcases... :   0%|          | 1/245 [00:01<04:33,  1.12s/it]\rRunning testcases... :   1%|          | 2/245 [00:02<06:11,  1.53s/it]\rRunning testcases... :   1%|          | 3/245 [00:05<08:13,  2.04s/it]\rRunning testcases... :   2%|▏         | 4/245 [00:09<11:12,  2.79s/it]\rRunning testcases... :   2%|▏         | 5/245 [00:12<11:07,  2.78s/it]\rRunning testcases... :   2%|▏         | 6/245 [00:15<11:30,  2.89s/it]\rRunning testcases... :   3%|▎         | 7/245 [00:18<12:07,  3.06s/it]\rRunning testcases... :   3%|▎         | 8/245 [00:19<09:24,  2.38s/it]\rRunning testcases... :   4%|▎         | 9/245 [00:21<09:03,  2.30s/it]\rRunning testcases... :   4%|▍         | 10/245 [00:25<10:34,  2.70s/it]\rRunning testcases... :   4%|▍         | 11/245 [00:27<10:05,  2.59s/it]\rRunning testcases... :   5%|▍         | 12/245 [00:31<11:55,  3.07s/it]\rRunning testcases... :   5%|▌         | 13/245 [00:35<13:00,  3.36s/it]\rRunning testcases... :   6%|▌         | 14/245 [00:39<12:32,  3.26s/it]\rRunning testcases... :   6%|▌         | 15/245 [00:43<13:21,  3.48s/it]\rRunning testcases... :   7%|▋         | 16/245 [00:45<11:36,  3.04s/it]\rRunning testcases... :   7%|▋         | 17/245 [00:48<12:25,  3.27s/it]\rRunning testcases... :   7%|▋         | 18/245 [00:52<12:45,  3.37s/it]\rRunning testcases... :   8%|▊         | 19/245 [00:55<11:47,  3.13s/it]\rRunning testcases... :   8%|▊         | 20/245 [00:57<11:25,  3.05s/it]\rRunning testcases... :   9%|▊         | 21/245 [01:01<11:42,  3.13s/it]\rRunning testcases... :   9%|▉         | 22/245 [01:03<10:52,  2.93s/it]\rRunning testcases... :   9%|▉         | 23/245 [01:05<09:51,  2.66s/it]\rRunning testcases... :  10%|▉         | 24/245 [01:10<12:15,  3.33s/it]\rRunning testcases... :  10%|█         | 25/245 [01:13<11:40,  3.19s/it]\rRunning testcases... :  11%|█         | 26/245 [01:15<10:20,  2.83s/it]\rRunning testcases... :  11%|█         | 27/245 [01:18<10:11,  2.81s/it]\rRunning testcases... :  11%|█▏        | 28/245 [01:20<09:57,  2.75s/it]\rRunning testcases... :  12%|█▏        | 29/245 [01:25<11:39,  3.24s/it]\rRunning testcases... :  12%|█▏        | 30/245 [01:27<10:18,  2.88s/it]\rRunning testcases... :  13%|█▎        | 31/245 [01:29<09:42,  2.72s/it]\rRunning testcases... :  13%|█▎        | 32/245 [01:39<17:43,  4.99s/it]\rRunning testcases... :  13%|█▎        | 33/245 [01:40<13:20,  3.78s/it]\rRunning testcases... :  14%|█▍        | 34/245 [01:43<12:13,  3.48s/it]\rRunning testcases... :  14%|█▍        | 35/245 [01:47<12:28,  3.56s/it]\rRunning testcases... :  15%|█▍        | 36/245 [01:49<11:01,  3.16s/it]\rRunning testcases... :  15%|█▌        | 37/245 [01:51<09:52,  2.85s/it]\rRunning testcases... :  16%|█▌        | 38/245 [01:55<10:54,  3.16s/it]\rRunning testcases... :  16%|█▌        | 39/245 [01:57<09:17,  2.71s/it]\rRunning testcases... :  16%|█▋        | 40/245 [02:00<09:26,  2.76s/it]\rRunning testcases... :  17%|█▋        | 41/245 [02:02<08:45,  2.58s/it]\rRunning testcases... :  17%|█▋        | 42/245 [02:04<08:23,  2.48s/it]\rRunning testcases... :  18%|█▊        | 43/245 [02:06<08:07,  2.42s/it]\rRunning testcases... :  18%|█▊        | 44/245 [02:09<08:33,  2.55s/it]\rRunning testcases... :  18%|█▊        | 45/245 [02:12<08:56,  2.68s/it]\rRunning testcases... :  19%|█▉        | 46/245 [02:14<07:49,  2.36s/it]\rRunning testcases... :  19%|█▉        | 47/245 [02:17<09:02,  2.74s/it]\rRunning testcases... :  20%|█▉        | 48/245 [02:18<06:45,  2.06s/it]\rRunning testcases... :  20%|██        | 49/245 [02:18<05:09,  1.58s/it]\rRunning testcases... :  20%|██        | 50/245 [02:21<06:28,  1.99s/it]\rRunning testcases... :  21%|██        | 51/245 [02:22<04:57,  1.53s/it]\rRunning testcases... :  21%|██        | 52/245 [02:22<03:53,  1.21s/it]\rRunning testcases... :  22%|██▏       | 53/245 [02:25<05:15,  1.65s/it]\rRunning testcases... :  22%|██▏       | 54/245 [02:25<04:06,  1.29s/it]\rRunning testcases... :  22%|██▏       | 55/245 [02:30<06:54,  2.18s/it]\rRunning testcases... :  23%|██▎       | 56/245 [02:32<06:44,  2.14s/it]\rRunning testcases... :  23%|██▎       | 57/245 [02:32<05:07,  1.64s/it]\rRunning testcases... :  24%|██▎       | 58/245 [02:34<05:32,  1.78s/it]\rRunning testcases... :  24%|██▍       | 59/245 [02:36<05:44,  1.85s/it]\rRunning testcases... :  24%|██▍       | 60/245 [02:38<05:47,  1.88s/it]\rRunning testcases... :  25%|██▍       | 61/245 [02:40<05:32,  1.80s/it]\rRunning testcases... :  25%|██▌       | 62/245 [02:40<04:15,  1.40s/it]\rRunning testcases... :  26%|██▌       | 63/245 [02:42<04:23,  1.45s/it]\rRunning testcases... :  26%|██▌       | 64/245 [02:42<03:30,  1.16s/it]\rRunning testcases... :  27%|██▋       | 65/245 [02:44<04:00,  1.33s/it]\rRunning testcases... :  27%|██▋       | 66/245 [02:44<03:11,  1.07s/it]\rRunning testcases... :  27%|██▋       | 67/245 [02:47<04:08,  1.40s/it]\rRunning testcases... :  28%|██▊       | 68/245 [02:47<03:17,  1.12s/it]\rRunning testcases... :  28%|██▊       | 69/245 [02:49<04:23,  1.50s/it]\rRunning testcases... :  29%|██▊       | 70/245 [02:51<04:24,  1.51s/it]\rRunning testcases... :  29%|██▉       | 71/245 [02:52<04:01,  1.39s/it]\rRunning testcases... :  29%|██▉       | 72/245 [02:55<04:54,  1.70s/it]\rRunning testcases... :  30%|██▉       | 73/245 [02:57<05:19,  1.86s/it]\rRunning testcases... :  30%|███       | 74/245 [02:57<04:06,  1.44s/it]\rRunning testcases... :  31%|███       | 75/245 [02:59<04:27,  1.57s/it]\rRunning testcases... :  31%|███       | 76/245 [03:02<05:08,  1.82s/it]\rRunning testcases... :  31%|███▏      | 77/245 [03:05<06:47,  2.43s/it]\rRunning testcases... :  32%|███▏      | 78/245 [03:07<06:07,  2.20s/it]\rRunning testcases... :  32%|███▏      | 79/245 [03:07<04:38,  1.68s/it]\rRunning testcases... :  33%|███▎      | 80/245 [03:09<04:31,  1.65s/it]\rRunning testcases... :  33%|███▎      | 81/245 [03:11<05:04,  1.86s/it]\rRunning testcases... :  33%|███▎      | 82/245 [03:14<05:18,  1.95s/it]\rRunning testcases... :  34%|███▍      | 83/245 [03:14<04:12,  1.56s/it]\rRunning testcases... :  34%|███▍      | 84/245 [03:16<04:17,  1.60s/it]\rRunning testcases... :  35%|███▍      | 85/245 [03:16<03:22,  1.27s/it]\rRunning testcases... :  35%|███▌      | 86/245 [03:19<04:19,  1.63s/it]\rRunning testcases... :  36%|███▌      | 87/245 [03:19<03:22,  1.28s/it]\rRunning testcases... :  36%|███▌      | 88/245 [03:21<03:56,  1.50s/it]\rRunning testcases... :  36%|███▋      | 89/245 [03:24<04:30,  1.73s/it]\rRunning testcases... :  37%|███▋      | 90/245 [03:24<03:28,  1.35s/it]\rRunning testcases... :  37%|███▋      | 91/245 [03:26<04:04,  1.59s/it]\rRunning testcases... :  38%|███▊      | 92/245 [03:29<05:10,  2.03s/it]\rRunning testcases... :  38%|███▊      | 93/245 [03:30<03:56,  1.56s/it]\rRunning testcases... :  38%|███▊      | 94/245 [03:30<03:06,  1.24s/it]\rRunning testcases... :  39%|███▉      | 95/245 [03:32<03:22,  1.35s/it]\rRunning testcases... :  39%|███▉      | 96/245 [03:32<02:45,  1.11s/it]\rRunning testcases... :  40%|███▉      | 97/245 [03:35<03:32,  1.44s/it]\rRunning testcases... :  40%|████      | 98/245 [03:35<02:48,  1.15s/it]\rRunning testcases... :  40%|████      | 99/245 [03:37<03:02,  1.25s/it]\rRunning testcases... :  41%|████      | 100/245 [03:37<02:28,  1.02s/it]\rRunning testcases... :  41%|████      | 101/245 [03:40<04:00,  1.67s/it]\rRunning testcases... :  42%|████▏     | 102/245 [03:41<03:39,  1.53s/it]\rRunning testcases... :  42%|████▏     | 103/245 [03:42<02:58,  1.26s/it]\rRunning testcases... :  42%|████▏     | 104/245 [03:43<02:23,  1.02s/it]\rRunning testcases... :  43%|████▎     | 105/245 [03:45<03:09,  1.35s/it]\rRunning testcases... :  43%|████▎     | 106/245 [03:45<02:30,  1.08s/it]\rRunning testcases... :  44%|████▎     | 107/245 [03:48<03:43,  1.62s/it]\rRunning testcases... :  44%|████▍     | 108/245 [03:48<02:54,  1.27s/it]\rRunning testcases... :  44%|████▍     | 109/245 [03:50<03:10,  1.40s/it]\rRunning testcases... :  45%|████▍     | 110/245 [04:00<08:31,  3.79s/it]\rRunning testcases... :  45%|████▌     | 111/245 [04:01<06:43,  3.01s/it]\rRunning testcases... :  46%|████▌     | 112/245 [04:02<05:33,  2.51s/it]\rRunning testcases... :  46%|████▌     | 113/245 [04:03<04:42,  2.14s/it]\rRunning testcases... :  47%|████▋     | 114/245 [04:05<04:01,  1.85s/it]\rRunning testcases... :  47%|████▋     | 115/245 [04:05<03:05,  1.43s/it]\rRunning testcases... :  47%|████▋     | 116/245 [04:06<02:56,  1.36s/it]\rRunning testcases... :  48%|████▊     | 117/245 [04:07<02:52,  1.35s/it]\rRunning testcases... :  48%|████▊     | 118/245 [04:08<02:18,  1.09s/it]\rRunning testcases... :  49%|████▊     | 119/245 [04:08<01:53,  1.11it/s]\rRunning testcases... :  49%|████▉     | 120/245 [04:11<02:40,  1.28s/it]\rRunning testcases... :  49%|████▉     | 121/245 [04:11<02:08,  1.03s/it]\rRunning testcases... :  50%|████▉     | 122/245 [04:13<02:29,  1.21s/it]\rRunning testcases... :  50%|█████     | 123/245 [04:13<02:01,  1.01it/s]\rRunning testcases... :  51%|█████     | 124/245 [04:15<02:29,  1.24s/it]\rRunning testcases... :  51%|█████     | 125/245 [04:15<02:00,  1.01s/it]\rRunning testcases... :  51%|█████▏    | 126/245 [04:18<02:47,  1.41s/it]\rRunning testcases... :  52%|█████▏    | 127/245 [04:18<02:13,  1.13s/it]\rRunning testcases... :  52%|█████▏    | 128/245 [04:21<03:05,  1.58s/it]\rRunning testcases... :  53%|█████▎    | 129/245 [04:22<02:51,  1.48s/it]\rRunning testcases... :  53%|█████▎    | 130/245 [04:23<02:14,  1.17s/it]\rRunning testcases... :  53%|█████▎    | 131/245 [04:23<01:49,  1.04it/s]\rRunning testcases... :  54%|█████▍    | 132/245 [04:25<02:25,  1.29s/it]\rRunning testcases... :  54%|█████▍    | 133/245 [04:27<02:37,  1.40s/it]\rRunning testcases... :  55%|█████▍    | 134/245 [04:27<02:05,  1.13s/it]\rRunning testcases... :  55%|█████▌    | 135/245 [04:30<02:43,  1.48s/it]\rRunning testcases... :  56%|█████▌    | 136/245 [04:31<02:34,  1.42s/it]\rRunning testcases... :  56%|█████▌    | 137/245 [04:32<02:20,  1.31s/it]\rRunning testcases... :  56%|█████▋    | 138/245 [04:32<01:53,  1.06s/it]\rRunning testcases... :  57%|█████▋    | 139/245 [04:35<02:35,  1.47s/it]\rRunning testcases... :  57%|█████▋    | 140/245 [04:35<02:02,  1.17s/it]\rRunning testcases... :  58%|█████▊    | 141/245 [04:37<02:20,  1.35s/it]\rRunning testcases... :  58%|█████▊    | 142/245 [04:39<02:41,  1.57s/it]\rRunning testcases... :  58%|█████▊    | 143/245 [04:41<02:53,  1.70s/it]\rRunning testcases... :  59%|█████▉    | 144/245 [04:44<03:12,  1.91s/it]\rRunning testcases... :  59%|█████▉    | 145/245 [04:45<03:01,  1.81s/it]\rRunning testcases... :  60%|█████▉    | 146/245 [04:47<02:57,  1.79s/it]\rRunning testcases... :  60%|██████    | 147/245 [04:47<02:16,  1.39s/it]\rRunning testcases... :  60%|██████    | 148/245 [04:50<02:49,  1.75s/it]\rRunning testcases... :  61%|██████    | 149/245 [04:50<02:10,  1.36s/it]\rRunning testcases... :  61%|██████    | 150/245 [04:53<02:35,  1.63s/it]\rRunning testcases... :  62%|██████▏   | 151/245 [04:53<02:00,  1.28s/it]\rRunning testcases... :  62%|██████▏   | 152/245 [04:56<02:32,  1.64s/it]\rRunning testcases... :  62%|██████▏   | 153/245 [04:56<01:58,  1.29s/it]\rRunning testcases... :  63%|██████▎   | 154/245 [04:58<02:18,  1.52s/it]\rRunning testcases... :  63%|██████▎   | 155/245 [04:59<01:47,  1.20s/it]\rRunning testcases... :  64%|██████▎   | 156/245 [05:00<01:55,  1.29s/it]\rRunning testcases... :  64%|██████▍   | 157/245 [05:02<02:04,  1.42s/it]\rRunning testcases... :  64%|██████▍   | 158/245 [05:02<01:38,  1.13s/it]\rRunning testcases... :  65%|██████▍   | 159/245 [05:04<01:52,  1.31s/it]\rRunning testcases... :  65%|██████▌   | 160/245 [05:04<01:30,  1.06s/it]\rRunning testcases... :  66%|██████▌   | 161/245 [05:07<02:04,  1.49s/it]\rRunning testcases... :  66%|██████▌   | 162/245 [05:07<01:38,  1.19s/it]\rRunning testcases... :  67%|██████▋   | 163/245 [05:09<01:49,  1.33s/it]\rRunning testcases... :  67%|██████▋   | 164/245 [05:11<02:11,  1.63s/it]\rRunning testcases... :  67%|██████▋   | 165/245 [05:13<02:20,  1.75s/it]\rRunning testcases... :  68%|██████▊   | 166/245 [05:16<02:34,  1.95s/it]\rRunning testcases... :  68%|██████▊   | 167/245 [05:17<02:14,  1.72s/it]\rRunning testcases... :  69%|██████▊   | 168/245 [05:18<01:43,  1.34s/it]\rRunning testcases... :  69%|██████▉   | 169/245 [05:19<01:49,  1.44s/it]\rRunning testcases... :  69%|██████▉   | 170/245 [05:21<01:59,  1.59s/it]\rRunning testcases... :  70%|██████▉   | 171/245 [05:23<02:11,  1.77s/it]\rRunning testcases... :  70%|███████   | 172/245 [05:26<02:32,  2.09s/it]\rRunning testcases... :  71%|███████   | 173/245 [05:27<01:58,  1.65s/it]\rRunning testcases... :  71%|███████   | 174/245 [05:28<01:47,  1.52s/it]\rRunning testcases... :  71%|███████▏  | 175/245 [05:29<01:39,  1.42s/it]\rRunning testcases... :  72%|███████▏  | 176/245 [05:30<01:18,  1.14s/it]\rRunning testcases... :  72%|███████▏  | 177/245 [05:31<01:18,  1.16s/it]\rRunning testcases... :  73%|███████▎  | 178/245 [05:31<01:03,  1.06it/s]\rRunning testcases... :  73%|███████▎  | 179/245 [05:34<01:28,  1.33s/it]\rRunning testcases... :  73%|███████▎  | 180/245 [05:36<01:38,  1.52s/it]\rRunning testcases... :  74%|███████▍  | 181/245 [05:38<01:49,  1.71s/it]\rRunning testcases... :  74%|███████▍  | 182/245 [05:38<01:24,  1.34s/it]\rRunning testcases... :  75%|███████▍  | 183/245 [05:40<01:37,  1.57s/it]\rRunning testcases... :  75%|███████▌  | 184/245 [05:42<01:38,  1.62s/it]\rRunning testcases... :  76%|███████▌  | 185/245 [05:43<01:21,  1.35s/it]\rRunning testcases... :  76%|███████▌  | 186/245 [05:43<01:03,  1.08s/it]\rRunning testcases... :  76%|███████▋  | 187/245 [05:45<01:18,  1.34s/it]\rRunning testcases... :  77%|███████▋  | 188/245 [05:47<01:30,  1.58s/it]\rRunning testcases... :  77%|███████▋  | 189/245 [05:50<01:44,  1.86s/it]\rRunning testcases... :  78%|███████▊  | 190/245 [05:50<01:19,  1.44s/it]\rRunning testcases... :  78%|███████▊  | 191/245 [05:52<01:19,  1.48s/it]\rRunning testcases... :  78%|███████▊  | 192/245 [05:52<01:01,  1.17s/it]\rRunning testcases... :  79%|███████▉  | 193/245 [05:55<01:23,  1.60s/it]\rRunning testcases... :  79%|███████▉  | 194/245 [05:55<01:04,  1.26s/it]\rRunning testcases... :  80%|███████▉  | 195/245 [05:57<01:15,  1.52s/it]\rRunning testcases... :  80%|████████  | 196/245 [05:59<01:15,  1.54s/it]\rRunning testcases... :  80%|████████  | 197/245 [06:00<00:58,  1.22s/it]\rRunning testcases... :  81%|████████  | 198/245 [06:01<01:06,  1.41s/it]\rRunning testcases... :  81%|████████  | 199/245 [06:04<01:20,  1.76s/it]\rRunning testcases... :  82%|████████▏ | 200/245 [06:05<01:03,  1.41s/it]\rRunning testcases... :  82%|████████▏ | 201/245 [06:06<01:07,  1.53s/it]\rRunning testcases... :  82%|████████▏ | 202/245 [06:08<01:10,  1.64s/it]\rRunning testcases... :  83%|████████▎ | 203/245 [06:12<01:32,  2.20s/it]\rRunning testcases... :  83%|████████▎ | 204/245 [06:12<01:08,  1.68s/it]\rRunning testcases... :  84%|████████▎ | 205/245 [06:14<01:13,  1.84s/it]\rRunning testcases... :  84%|████████▍ | 206/245 [06:16<01:13,  1.89s/it]\rRunning testcases... :  84%|████████▍ | 207/245 [06:18<01:07,  1.78s/it]\rRunning testcases... :  85%|████████▍ | 208/245 [06:18<00:51,  1.39s/it]\rRunning testcases... :  85%|████████▌ | 209/245 [06:20<00:53,  1.50s/it]\rRunning testcases... :  86%|████████▌ | 210/245 [06:22<00:53,  1.54s/it]\rRunning testcases... :  86%|████████▌ | 211/245 [06:22<00:41,  1.22s/it]\rRunning testcases... :  87%|████████▋ | 212/245 [06:24<00:48,  1.48s/it]\rRunning testcases... :  87%|████████▋ | 213/245 [06:27<00:53,  1.68s/it]\rRunning testcases... :  87%|████████▋ | 214/245 [06:29<00:57,  1.86s/it]\rRunning testcases... :  88%|████████▊ | 215/245 [06:29<00:43,  1.44s/it]\rRunning testcases... :  88%|████████▊ | 216/245 [06:32<00:49,  1.71s/it]\rRunning testcases... :  89%|████████▊ | 217/245 [06:32<00:37,  1.35s/it]\rRunning testcases... :  89%|████████▉ | 218/245 [06:34<00:39,  1.48s/it]\rRunning testcases... :  89%|████████▉ | 219/245 [06:34<00:30,  1.18s/it]\rRunning testcases... :  90%|████████▉ | 220/245 [06:36<00:35,  1.42s/it]\rRunning testcases... :  90%|█████████ | 221/245 [06:38<00:36,  1.52s/it]\rRunning testcases... :  91%|█████████ | 222/245 [06:40<00:36,  1.57s/it]\rRunning testcases... :  91%|█████████ | 223/245 [06:40<00:27,  1.23s/it]\rRunning testcases... :  91%|█████████▏| 224/245 [06:42<00:31,  1.48s/it]\rRunning testcases... :  92%|█████████▏| 225/245 [06:44<00:30,  1.55s/it]\rRunning testcases... :  92%|█████████▏| 226/245 [06:45<00:24,  1.28s/it]\rRunning testcases... :  93%|█████████▎| 227/245 [06:45<00:18,  1.03s/it]\rRunning testcases... :  93%|█████████▎| 228/245 [06:48<00:24,  1.47s/it]\rRunning testcases... :  93%|█████████▎| 229/245 [06:48<00:18,  1.17s/it]\rRunning testcases... :  94%|█████████▍| 230/245 [06:51<00:23,  1.59s/it]\rRunning testcases... :  94%|█████████▍| 231/245 [06:52<00:20,  1.45s/it]\rRunning testcases... :  95%|█████████▍| 232/245 [06:52<00:14,  1.15s/it]\rRunning testcases... :  95%|█████████▌| 233/245 [06:54<00:16,  1.34s/it]\rRunning testcases... :  96%|█████████▌| 234/245 [06:54<00:11,  1.08s/it]\rRunning testcases... :  96%|█████████▌| 235/245 [06:57<00:13,  1.37s/it]\rRunning testcases... :  96%|█████████▋| 236/245 [06:59<00:15,  1.68s/it]\rRunning testcases... :  97%|█████████▋| 237/245 [07:00<00:12,  1.56s/it]\rRunning testcases... :  97%|█████████▋| 238/245 [07:02<00:10,  1.48s/it]\rRunning testcases... :  98%|█████████▊| 239/245 [07:02<00:07,  1.17s/it]\rRunning testcases... :  98%|█████████▊| 240/245 [07:03<00:05,  1.20s/it]\rRunning testcases... :  98%|█████████▊| 241/245 [07:04<00:03,  1.02it/s]\rRunning testcases... :  99%|█████████▉| 242/245 [07:04<00:02,  1.20it/s]\rRunning testcases... :  99%|█████████▉| 243/245 [07:06<00:02,  1.12s/it]\rRunning testcases... : 100%|█████████▉| 244/245 [07:06<00:00,  1.08it/s]\rRunning testcases... : 100%|██████████| 245/245 [07:08<00:00,  1.16s/it]"
     ]
    },
    {
     "data": {
      "text/plain": []
     },
     "execution_count": 23,
     "metadata": {},
     "output_type": "execute_result"
    }
   ],
   "source": [
    "harness.run()"
   ]
  },
  {
   "cell_type": "markdown",
   "metadata": {
    "application/vnd.databricks.v1+cell": {
     "cellMetadata": {
      "byteLimit": 2048000,
      "rowLimit": 10000
     },
     "inputWidgets": {},
     "nuid": "6b5ac183-4d53-45b0-9316-c8aab0673d5a",
     "showTitle": false,
     "tableResultSettingsMap": {},
     "title": ""
    }
   },
   "source": [
    "#### 3.4: Analyze the Results\n",
    "\n",
    "The output will include:\n",
    "- **Defaults**: Results showing whether the model passed the basic functional tests.\n",
    "- **Robustness**:\n",
    "  - **add_typo**: Evaluates the model’s ability to handle typos in input text.\n",
    "  - **lowercase**: Tests the model’s performance with all input text converted to lowercase.\n"
   ]
  },
  {
   "cell_type": "code",
   "execution_count": 0,
   "metadata": {
    "application/vnd.databricks.v1+cell": {
     "cellMetadata": {
      "byteLimit": 2048000,
      "rowLimit": 10000
     },
     "inputWidgets": {},
     "nuid": "20984cd2-1168-4318-bc08-5cddae46862c",
     "showTitle": false,
     "tableResultSettingsMap": {},
     "title": ""
    }
   },
   "outputs": [
    {
     "name": "stderr",
     "output_type": "stream",
     "text": [
      "\rRunning testcases... : 100%|██████████| 245/245 [10:35<00:00,  2.59s/it]\n"
     ]
    },
    {
     "data": {
      "text/html": [
       "<div>\n",
       "<style scoped>\n",
       "    .dataframe tbody tr th:only-of-type {\n",
       "        vertical-align: middle;\n",
       "    }\n",
       "\n",
       "    .dataframe tbody tr th {\n",
       "        vertical-align: top;\n",
       "    }\n",
       "\n",
       "    .dataframe thead th {\n",
       "        text-align: right;\n",
       "    }\n",
       "</style>\n",
       "<table border=\"1\" class=\"dataframe\">\n",
       "  <thead>\n",
       "    <tr style=\"text-align: right;\">\n",
       "      <th></th>\n",
       "      <th>category</th>\n",
       "      <th>test_type</th>\n",
       "      <th>original_question</th>\n",
       "      <th>perturbed_question</th>\n",
       "      <th>options</th>\n",
       "      <th>expected_result</th>\n",
       "      <th>actual_result</th>\n",
       "      <th>pass</th>\n",
       "    </tr>\n",
       "  </thead>\n",
       "  <tbody>\n",
       "    <tr>\n",
       "      <th>0</th>\n",
       "      <td>robustness</td>\n",
       "      <td>add_typo</td>\n",
       "      <td>A junior orthopaedic surgery resident is compl...</td>\n",
       "      <td>A junior orthopaedic surgery residsnt is compl...</td>\n",
       "      <td>A. Disclose the error to the patient but leave...</td>\n",
       "      <td>The correct answer is B. Disclose the error to...</td>\n",
       "      <td>The correct answer is B. Disclose the error to...</td>\n",
       "      <td>True</td>\n",
       "    </tr>\n",
       "    <tr>\n",
       "      <th>1</th>\n",
       "      <td>robustness</td>\n",
       "      <td>add_typo</td>\n",
       "      <td>A 67-year-old man with transitional cell carci...</td>\n",
       "      <td>A 67-year-old man with transitional cell carci...</td>\n",
       "      <td>A. Inhibition of thymidine synthesis\\nB. Inhib...</td>\n",
       "      <td>To solve this question, let's break it down st...</td>\n",
       "      <td>To solve this question, let's break it down st...</td>\n",
       "      <td>True</td>\n",
       "    </tr>\n",
       "    <tr>\n",
       "      <th>2</th>\n",
       "      <td>robustness</td>\n",
       "      <td>add_typo</td>\n",
       "      <td>Two weeks after undergoing an emergency cardia...</td>\n",
       "      <td>Two weeks after undergoing an emergency cardia...</td>\n",
       "      <td>A. Renal papillary necrosis\\nB. Allergic inter...</td>\n",
       "      <td>To determine the most likely cause of this pat...</td>\n",
       "      <td>To determine the most likely cause of this pat...</td>\n",
       "      <td>True</td>\n",
       "    </tr>\n",
       "    <tr>\n",
       "      <th>3</th>\n",
       "      <td>robustness</td>\n",
       "      <td>add_typo</td>\n",
       "      <td>A 39-year-old woman is brought to the emergenc...</td>\n",
       "      <td>A 39-year-old woman is brought to the emergenc...</td>\n",
       "      <td>A. Coagulase-positive, gram-positive cocci for...</td>\n",
       "      <td>To solve this question, let's break down the k...</td>\n",
       "      <td>To solve this question, let's break down the k...</td>\n",
       "      <td>True</td>\n",
       "    </tr>\n",
       "    <tr>\n",
       "      <th>4</th>\n",
       "      <td>robustness</td>\n",
       "      <td>add_typo</td>\n",
       "      <td>A 35-year-old man comes to the physician becau...</td>\n",
       "      <td>A 35-year-old man comes to the physician becau...</td>\n",
       "      <td>A. Erythromycin ointment\\nB. Ketotifen eye dro...</td>\n",
       "      <td>To determine the most appropriate treatment, l...</td>\n",
       "      <td>To determine the most appropriate treatment, l...</td>\n",
       "      <td>True</td>\n",
       "    </tr>\n",
       "    <tr>\n",
       "      <th>...</th>\n",
       "      <td>...</td>\n",
       "      <td>...</td>\n",
       "      <td>...</td>\n",
       "      <td>...</td>\n",
       "      <td>...</td>\n",
       "      <td>...</td>\n",
       "      <td>...</td>\n",
       "      <td>...</td>\n",
       "    </tr>\n",
       "    <tr>\n",
       "      <th>240</th>\n",
       "      <td>robustness</td>\n",
       "      <td>uppercase</td>\n",
       "      <td>A man is brought into the emergency department...</td>\n",
       "      <td>A MAN IS BROUGHT INTO THE EMERGENCY DEPARTMENT...</td>\n",
       "      <td>A. Ethanol\\nB. Naltrexone\\nC. Naloxone\\nD. Flu...</td>\n",
       "      <td>To address this patient's condition, let's bre...</td>\n",
       "      <td>To address this patient's condition, we need t...</td>\n",
       "      <td>False</td>\n",
       "    </tr>\n",
       "    <tr>\n",
       "      <th>241</th>\n",
       "      <td>robustness</td>\n",
       "      <td>uppercase</td>\n",
       "      <td>A medical research study is evaluating an inve...</td>\n",
       "      <td>A MEDICAL RESEARCH STUDY IS EVALUATING AN INVE...</td>\n",
       "      <td>A. 5\\nB. 16\\nC. 20\\nD. 30\\nE. 50</td>\n",
       "      <td>To calculate the Number Needed to Treat (NNT) ...</td>\n",
       "      <td>To calculate the Number Needed to Treat (NNT) ...</td>\n",
       "      <td>True</td>\n",
       "    </tr>\n",
       "    <tr>\n",
       "      <th>242</th>\n",
       "      <td>robustness</td>\n",
       "      <td>uppercase</td>\n",
       "      <td>A 55-year-old man comes to the physician becau...</td>\n",
       "      <td>A 55-YEAR-OLD MAN COMES TO THE PHYSICIAN BECAU...</td>\n",
       "      <td>A. Femoropopliteal artery stenosis\\nB. Vasculi...</td>\n",
       "      <td>The correct answer is A. Femoropopliteal arter...</td>\n",
       "      <td>The correct answer is A. Femoropopliteal arter...</td>\n",
       "      <td>True</td>\n",
       "    </tr>\n",
       "    <tr>\n",
       "      <th>243</th>\n",
       "      <td>robustness</td>\n",
       "      <td>uppercase</td>\n",
       "      <td>A 29-year-old primigravid woman at 35 weeks' g...</td>\n",
       "      <td>A 29-YEAR-OLD PRIMIGRAVID WOMAN AT 35 WEEKS' G...</td>\n",
       "      <td>A. Perform karyotyping of amniotic fluid\\nB. R...</td>\n",
       "      <td>The correct answer is B. Recommend autopsy of ...</td>\n",
       "      <td>The correct answer is B. Recommend autopsy of ...</td>\n",
       "      <td>True</td>\n",
       "    </tr>\n",
       "    <tr>\n",
       "      <th>244</th>\n",
       "      <td>robustness</td>\n",
       "      <td>uppercase</td>\n",
       "      <td>A 67-year-old man is hospitalized after severa...</td>\n",
       "      <td>A 67-YEAR-OLD MAN IS HOSPITALIZED AFTER SEVERA...</td>\n",
       "      <td>A. Squamous cell proliferation\\nB. Sweeping of...</td>\n",
       "      <td>The correct answer is D. Proliferation of surf...</td>\n",
       "      <td>The correct answer is D. Proliferation of surf...</td>\n",
       "      <td>True</td>\n",
       "    </tr>\n",
       "  </tbody>\n",
       "</table>\n",
       "<p>245 rows × 8 columns</p>\n",
       "</div>"
      ],
      "text/plain": [
       "       category  ...   pass\n",
       "0    robustness  ...   True\n",
       "1    robustness  ...   True\n",
       "2    robustness  ...   True\n",
       "3    robustness  ...   True\n",
       "4    robustness  ...   True\n",
       "..          ...  ...    ...\n",
       "240  robustness  ...  False\n",
       "241  robustness  ...   True\n",
       "242  robustness  ...   True\n",
       "243  robustness  ...   True\n",
       "244  robustness  ...   True\n",
       "\n",
       "[245 rows x 8 columns]"
      ]
     },
     "execution_count": 24,
     "metadata": {},
     "output_type": "execute_result"
    }
   ],
   "source": [
    "generated_results = harness.generated_results()\n",
    "generated_results"
   ]
  },
  {
   "cell_type": "code",
   "execution_count": 0,
   "metadata": {
    "application/vnd.databricks.v1+cell": {
     "cellMetadata": {
      "byteLimit": 2048000,
      "rowLimit": 10000
     },
     "inputWidgets": {},
     "nuid": "c9295d77-287b-4df5-8af9-7f3516c82625",
     "showTitle": false,
     "tableResultSettingsMap": {},
     "title": ""
    }
   },
   "outputs": [],
   "source": [
    "results_dlt_df = spark.createDataFrame(generated_results)\n",
    "\n",
    "results_dlt_df.write.format(\"delta\").mode(\"overwrite\").save(\"dbfs:/MedQA/langtest_results\")"
   ]
  },
  {
   "cell_type": "code",
   "execution_count": 0,
   "metadata": {
    "application/vnd.databricks.v1+cell": {
     "cellMetadata": {
      "byteLimit": 2048000,
      "rowLimit": 10000
     },
     "inputWidgets": {},
     "nuid": "42431a2a-087c-4efc-8244-dc39992eb78d",
     "showTitle": false,
     "tableResultSettingsMap": {},
     "title": ""
    }
   },
   "outputs": [
    {
     "data": {
      "text/html": [
       "<div>\n",
       "<style scoped>\n",
       "    .dataframe tbody tr th:only-of-type {\n",
       "        vertical-align: middle;\n",
       "    }\n",
       "\n",
       "    .dataframe tbody tr th {\n",
       "        vertical-align: top;\n",
       "    }\n",
       "\n",
       "    .dataframe thead th {\n",
       "        text-align: right;\n",
       "    }\n",
       "</style>\n",
       "<table border=\"1\" class=\"dataframe\">\n",
       "  <thead>\n",
       "    <tr style=\"text-align: right;\">\n",
       "      <th></th>\n",
       "      <th>category</th>\n",
       "      <th>test_type</th>\n",
       "      <th>fail_count</th>\n",
       "      <th>pass_count</th>\n",
       "      <th>pass_rate</th>\n",
       "      <th>minimum_pass_rate</th>\n",
       "      <th>pass</th>\n",
       "    </tr>\n",
       "  </thead>\n",
       "  <tbody>\n",
       "    <tr>\n",
       "      <th>0</th>\n",
       "      <td>robustness</td>\n",
       "      <td>add_typo</td>\n",
       "      <td>14</td>\n",
       "      <td>33</td>\n",
       "      <td>70%</td>\n",
       "      <td>80%</td>\n",
       "      <td>False</td>\n",
       "    </tr>\n",
       "    <tr>\n",
       "      <th>1</th>\n",
       "      <td>robustness</td>\n",
       "      <td>add_ocr_typo</td>\n",
       "      <td>22</td>\n",
       "      <td>28</td>\n",
       "      <td>56%</td>\n",
       "      <td>80%</td>\n",
       "      <td>False</td>\n",
       "    </tr>\n",
       "    <tr>\n",
       "      <th>2</th>\n",
       "      <td>robustness</td>\n",
       "      <td>add_speech_to_text_typo</td>\n",
       "      <td>9</td>\n",
       "      <td>41</td>\n",
       "      <td>82%</td>\n",
       "      <td>80%</td>\n",
       "      <td>True</td>\n",
       "    </tr>\n",
       "    <tr>\n",
       "      <th>3</th>\n",
       "      <td>robustness</td>\n",
       "      <td>add_slangs</td>\n",
       "      <td>22</td>\n",
       "      <td>26</td>\n",
       "      <td>54%</td>\n",
       "      <td>80%</td>\n",
       "      <td>False</td>\n",
       "    </tr>\n",
       "    <tr>\n",
       "      <th>4</th>\n",
       "      <td>robustness</td>\n",
       "      <td>uppercase</td>\n",
       "      <td>19</td>\n",
       "      <td>31</td>\n",
       "      <td>62%</td>\n",
       "      <td>80%</td>\n",
       "      <td>False</td>\n",
       "    </tr>\n",
       "  </tbody>\n",
       "</table>\n",
       "</div>"
      ],
      "text/plain": [
       "     category                test_type  ...  minimum_pass_rate   pass\n",
       "0  robustness                 add_typo  ...                80%  False\n",
       "1  robustness             add_ocr_typo  ...                80%  False\n",
       "2  robustness  add_speech_to_text_typo  ...                80%   True\n",
       "3  robustness               add_slangs  ...                80%  False\n",
       "4  robustness                uppercase  ...                80%  False\n",
       "\n",
       "[5 rows x 7 columns]"
      ]
     },
     "execution_count": 25,
     "metadata": {},
     "output_type": "execute_result"
    }
   ],
   "source": [
    "report = harness.report()\n",
    "report"
   ]
  },
  {
   "cell_type": "code",
   "execution_count": 0,
   "metadata": {
    "application/vnd.databricks.v1+cell": {
     "cellMetadata": {
      "byteLimit": 2048000,
      "rowLimit": 10000
     },
     "inputWidgets": {},
     "nuid": "178a026d-3332-4458-9b6a-e33d07c6f785",
     "showTitle": false,
     "tableResultSettingsMap": {},
     "title": ""
    }
   },
   "outputs": [],
   "source": [
    "report_dlt_df = spark.createDataFrame(report)\n",
    "\n",
    "report_dlt_df.write.format(\"delta\").mode(\"overwrite\").save(\"dbfs:/MedQA/langtest_report\")"
   ]
  },
  {
   "cell_type": "code",
   "execution_count": 0,
   "metadata": {
    "application/vnd.databricks.v1+cell": {
     "cellMetadata": {
      "byteLimit": 2048000,
      "rowLimit": 10000
     },
     "inputWidgets": {},
     "nuid": "4b0046ab-7da9-416f-9d99-bfa0791e9ab3",
     "showTitle": false,
     "tableResultSettingsMap": {},
     "title": ""
    }
   },
   "outputs": [],
   "source": []
  }
 ],
 "metadata": {
  "application/vnd.databricks.v1+notebook": {
   "computePreferences": null,
   "dashboards": [],
   "environmentMetadata": {
    "base_environment": "",
    "client": "1"
   },
   "language": "python",
   "notebookMetadata": {
    "pythonIndentUnit": 4
   },
   "notebookName": "LangTest With Databricks",
   "widgets": {}
  },
  "kernelspec": {
   "display_name": ".venv",
   "language": "python",
   "name": "python3"
  },
  "language_info": {
   "name": "python"
  }
 },
 "nbformat": 4,
 "nbformat_minor": 0
}
